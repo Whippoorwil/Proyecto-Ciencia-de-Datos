{
  "nbformat": 4,
  "nbformat_minor": 0,
  "metadata": {
    "colab": {
      "name": "IDA.ipynb",
      "provenance": [],
      "authorship_tag": "ABX9TyMwP8TazAePFZzRQ4noS1Ft",
      "include_colab_link": true
    },
    "kernelspec": {
      "name": "python3",
      "display_name": "Python 3"
    },
    "language_info": {
      "name": "python"
    }
  },
  "cells": [
    {
      "cell_type": "markdown",
      "metadata": {
        "id": "view-in-github",
        "colab_type": "text"
      },
      "source": [
        "<a href=\"https://colab.research.google.com/github/drpedrazas/Proyecto-Ciencia-de-Datos/blob/main/IDA.ipynb\" target=\"_parent\"><img src=\"https://colab.research.google.com/assets/colab-badge.svg\" alt=\"Open In Colab\"/></a>"
      ]
    },
    {
      "cell_type": "markdown",
      "metadata": {
        "id": "YBADvImRr-bO"
      },
      "source": [
        "# David Ricardo Pedraza Silva"
      ]
    },
    {
      "cell_type": "markdown",
      "metadata": {
        "id": "EJ1m6iDFEaCJ"
      },
      "source": [
        "# Initial Data Analysis\n",
        "\n",
        "In this notebook we are going to make our first exploration regarding our data. Remember, first of all, that we are working with the dataset obtained through the efffort of Jianmo Ni, Jiacheng Li and Julian McAuley. The work in question: \n",
        "\n",
        "**Justifying recommendations using distantly-labeled reviews and fined-grained aspects**\n",
        "\n",
        "**Jianmo Ni, Jiacheng Li, Julian McAuley**\n",
        "\n",
        "**Empirical Methods in Natural Language Processing (EMNLP), 2019**\n",
        "\n",
        "With these attributions out of the way I shall remark that a lot of the cleaning job regarding this dataset has already been done by these. Nevertheless, as our duty demands, it is necesary for us to make sure our data is suitable for what we are going to do.\n",
        "\n",
        "#Metadata\n",
        "\n",
        "Metada has been reduced to almost nothing. We do have, however, access to unix time for each review. \n",
        "\n",
        "It would be nice if we could use normal time instead of unix time. Let us convert it:"
      ]
    },
    {
      "cell_type": "code",
      "metadata": {
        "id": "C8hJZfiuLzHK"
      },
      "source": [
        "from datetime import datetime\n",
        "import pandas as pd\n",
        "df = pd.read_csv('/content/sample_data/Kindle_Store.csv', header=None)\n",
        "df.columns = ['item','user','rating','timestamp']"
      ],
      "execution_count": 3,
      "outputs": []
    },
    {
      "cell_type": "markdown",
      "metadata": {
        "id": "6La0Vn2OTaI5"
      },
      "source": [
        "We should chek if we got Null values before duing anything; we might get an error if that is indeed the case. It might in fact make the entire row unnusable, so it is desirable to get rid of these data should they display such patologies."
      ]
    },
    {
      "cell_type": "code",
      "metadata": {
        "colab": {
          "base_uri": "https://localhost:8080/"
        },
        "id": "5F-KnKi0T3HO",
        "outputId": "848efb2b-3518-41ab-dd72-9b7eec1b3a1f"
      },
      "source": [
        "any([df['item'].isnull().values.any(), df['user'].isnull().values.any(), df['rating'].isnull().values.any(), df['timestamp'].isnull().values.any()])"
      ],
      "execution_count": 9,
      "outputs": [
        {
          "output_type": "execute_result",
          "data": {
            "text/plain": [
              "False"
            ]
          },
          "metadata": {
            "tags": []
          },
          "execution_count": 9
        }
      ]
    },
    {
      "cell_type": "markdown",
      "metadata": {
        "id": "yx9gWtjUUPte"
      },
      "source": [
        "We don't have any null values, which is excelent. Let us convert (this time for real) our unix timestamps to dates."
      ]
    },
    {
      "cell_type": "code",
      "metadata": {
        "id": "slWsBPpARXq8"
      },
      "source": [
        "df['date'] = df['timestamp'].apply(lambda x: datetime.fromtimestamp(int(x)))"
      ],
      "execution_count": 7,
      "outputs": []
    },
    {
      "cell_type": "code",
      "metadata": {
        "colab": {
          "base_uri": "https://localhost:8080/",
          "height": 206
        },
        "id": "H_B5uYDoSGco",
        "outputId": "db054fe6-80e8-4745-83df-db9de69ad7be"
      },
      "source": [
        "df.head()"
      ],
      "execution_count": 8,
      "outputs": [
        {
          "output_type": "execute_result",
          "data": {
            "text/html": [
              "<div>\n",
              "<style scoped>\n",
              "    .dataframe tbody tr th:only-of-type {\n",
              "        vertical-align: middle;\n",
              "    }\n",
              "\n",
              "    .dataframe tbody tr th {\n",
              "        vertical-align: top;\n",
              "    }\n",
              "\n",
              "    .dataframe thead th {\n",
              "        text-align: right;\n",
              "    }\n",
              "</style>\n",
              "<table border=\"1\" class=\"dataframe\">\n",
              "  <thead>\n",
              "    <tr style=\"text-align: right;\">\n",
              "      <th></th>\n",
              "      <th>item</th>\n",
              "      <th>user</th>\n",
              "      <th>rating</th>\n",
              "      <th>timestamp</th>\n",
              "      <th>date</th>\n",
              "    </tr>\n",
              "  </thead>\n",
              "  <tbody>\n",
              "    <tr>\n",
              "      <th>0</th>\n",
              "      <td>1423600150</td>\n",
              "      <td>A27UD5HYAKBL97</td>\n",
              "      <td>4.0</td>\n",
              "      <td>1356739200</td>\n",
              "      <td>2012-12-29</td>\n",
              "    </tr>\n",
              "    <tr>\n",
              "      <th>1</th>\n",
              "      <td>1423600150</td>\n",
              "      <td>A8P5DK8LLOYGH</td>\n",
              "      <td>5.0</td>\n",
              "      <td>1330992000</td>\n",
              "      <td>2012-03-06</td>\n",
              "    </tr>\n",
              "    <tr>\n",
              "      <th>2</th>\n",
              "      <td>1423600150</td>\n",
              "      <td>A3OM9W7DXSUIIY</td>\n",
              "      <td>5.0</td>\n",
              "      <td>1250035200</td>\n",
              "      <td>2009-08-12</td>\n",
              "    </tr>\n",
              "    <tr>\n",
              "      <th>3</th>\n",
              "      <td>1423600150</td>\n",
              "      <td>A3DPAR2PWB9BT8</td>\n",
              "      <td>3.0</td>\n",
              "      <td>1162512000</td>\n",
              "      <td>2006-11-03</td>\n",
              "    </tr>\n",
              "    <tr>\n",
              "      <th>4</th>\n",
              "      <td>1423600150</td>\n",
              "      <td>A2ONTBSAX7GIOV</td>\n",
              "      <td>5.0</td>\n",
              "      <td>1144713600</td>\n",
              "      <td>2006-04-11</td>\n",
              "    </tr>\n",
              "  </tbody>\n",
              "</table>\n",
              "</div>"
            ],
            "text/plain": [
              "         item            user  rating   timestamp       date\n",
              "0  1423600150  A27UD5HYAKBL97     4.0  1356739200 2012-12-29\n",
              "1  1423600150   A8P5DK8LLOYGH     5.0  1330992000 2012-03-06\n",
              "2  1423600150  A3OM9W7DXSUIIY     5.0  1250035200 2009-08-12\n",
              "3  1423600150  A3DPAR2PWB9BT8     3.0  1162512000 2006-11-03\n",
              "4  1423600150  A2ONTBSAX7GIOV     5.0  1144713600 2006-04-11"
            ]
          },
          "metadata": {
            "tags": []
          },
          "execution_count": 8
        }
      ]
    },
    {
      "cell_type": "markdown",
      "metadata": {
        "id": "3hUd1lbXXkOw"
      },
      "source": [
        "Other than the user's review we lack any info on who they are or their demographics. Thus; our task will go towards compartmentalize users in boxes, as many as sensibly posible. In the end our prediction algorithm with fit a new user, given their reviews, on one of these boxes in order to recommend them new books."
      ]
    },
    {
      "cell_type": "markdown",
      "metadata": {
        "id": "s47nbA_JYaDm"
      },
      "source": [
        "#Screening\n",
        "\n",
        "Ratings are the kernel of our operation. They are a quantitative indication of how much the user deems the product as a \"good purchase\". We want to know how much do these numbers tell us about the subjective quality of each book. \n",
        "\n",
        "We sumarize some important properties of this \"rating\" column:"
      ]
    },
    {
      "cell_type": "code",
      "metadata": {
        "colab": {
          "base_uri": "https://localhost:8080/"
        },
        "id": "feNsTcKdaH87",
        "outputId": "90f79627-eff4-4297-a8da-2786963eadd7"
      },
      "source": [
        "df['rating'].describe()"
      ],
      "execution_count": 11,
      "outputs": [
        {
          "output_type": "execute_result",
          "data": {
            "text/plain": [
              "count    5.722988e+06\n",
              "mean     4.302052e+00\n",
              "std      1.087467e+00\n",
              "min      0.000000e+00\n",
              "25%      4.000000e+00\n",
              "50%      5.000000e+00\n",
              "75%      5.000000e+00\n",
              "max      5.000000e+00\n",
              "Name: rating, dtype: float64"
            ]
          },
          "metadata": {
            "tags": []
          },
          "execution_count": 11
        }
      ]
    },
    {
      "cell_type": "markdown",
      "metadata": {
        "id": "chs2KYhbbZSl"
      },
      "source": [
        "We ran into a problem. People rarely rate, or buy, books that they wont enjoy. This means that this dataset only tells us about the books each user has read. As you can se here, we have an overwhlming bias towards 5 star reviews. Here is a visual representation."
      ]
    },
    {
      "cell_type": "code",
      "metadata": {
        "colab": {
          "base_uri": "https://localhost:8080/",
          "height": 307
        },
        "id": "GhQRi0cqfGcx",
        "outputId": "75c78362-c5fd-444a-ee38-1abbad2d38b1"
      },
      "source": [
        "df2 = pd.DataFrame({'rating':[i for i in range(0,6)],'amount': [len(df[df['rating'] == float(i)]) for i in range(0,6)]})\n",
        "df2.plot.bar(x='rating', y='amount', rot=0)"
      ],
      "execution_count": 14,
      "outputs": [
        {
          "output_type": "execute_result",
          "data": {
            "text/plain": [
              "<matplotlib.axes._subplots.AxesSubplot at 0x7f219844f450>"
            ]
          },
          "metadata": {
            "tags": []
          },
          "execution_count": 14
        },
        {
          "output_type": "display_data",
          "data": {
            "image/png": "[encoded data removed]",
            "text/plain": [
              "<Figure size 432x288 with 1 Axes>"
            ]
          },
          "metadata": {
            "tags": [],
            "needs_background": "light"
          }
        }
      ]
    },
    {
      "cell_type": "markdown",
      "metadata": {
        "id": "1OTeElK6gIt0"
      },
      "source": [
        "Our information is not as detailed as we thought. We still have plenty of data, so we can do this: take any rating of 4 or more as part of this customer's choices. All the other reviews will be taken as irrelevant or negative. \n",
        "\n",
        "These data encompass a wide stretch of time. We shall see if there is a bias towards a particular period."
      ]
    },
    {
      "cell_type": "code",
      "metadata": {
        "colab": {
          "base_uri": "https://localhost:8080/",
          "height": 323
        },
        "id": "AqQ0UrMVh7Wg",
        "outputId": "286b5900-5c80-4817-b339-d49da6b7e669"
      },
      "source": [
        "years = df['date'].dt.to_period('A').value_counts()\n",
        "df3 = pd.DataFrame({'date':[i for i in range(1997,2016)], 'No. Ratings': [years.loc[str(i)] for i in range(1997,2016)]})\n",
        "df3.plot.bar(x='date',y='No. Ratings')"
      ],
      "execution_count": 37,
      "outputs": [
        {
          "output_type": "execute_result",
          "data": {
            "text/plain": [
              "<matplotlib.axes._subplots.AxesSubplot at 0x7f2193513710>"
            ]
          },
          "metadata": {
            "tags": []
          },
          "execution_count": 37
        },
        {
          "output_type": "display_data",
          "data": {
            "image/png": "[encoded data removed]",
            "text/plain": [
              "<Figure size 432x288 with 1 Axes>"
            ]
          },
          "metadata": {
            "tags": [],
            "needs_background": "light"
          }
        }
      ]
    },
    {
      "cell_type": "markdown",
      "metadata": {
        "id": "YuBqMnK_mmLf"
      },
      "source": [
        "We don't have data from 2016 onwards. Our distribution, however, is swayed towards the last years in our sample, which is good. It shouldn't a huge issue (old books are available in the future, future book are not available in the past).\n",
        "\n",
        "We have a limited power of prediction, since this dataset is rather old. We might think on complementing our dataset, but for now we will work with what we have."
      ]
    },
    {
      "cell_type": "markdown",
      "metadata": {
        "id": "p2PdNYyjn7a4"
      },
      "source": [
        "#Findings\n",
        "\n",
        "We found out that our set is not as quantitative as we initially thought. We got a set that tells if a custoemr liked or didn't like a certain book instead of data regarding the quality of each item. We also found out that most of the data is very clusterd inbetween 2011 and 2015 to the point in which previous datapoints are easily dismissed. \n",
        "\n",
        "With this we might commence our project. We are going to clusterize types of customers, and use this algorithms to classify new customers based on their reviews. "
      ]
    }
  ]
}