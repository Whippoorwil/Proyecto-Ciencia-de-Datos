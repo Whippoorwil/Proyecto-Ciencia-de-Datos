{
  "nbformat": 4,
  "nbformat_minor": 0,
  "metadata": {
    "colab": {
      "name": "Business Understanding.ipynb",
      "provenance": [],
      "authorship_tag": "ABX9TyPeS0IKn0BDeMMF014i9MI7",
      "include_colab_link": true
    },
    "kernelspec": {
      "name": "python3",
      "display_name": "Python 3"
    },
    "language_info": {
      "name": "python"
    }
  },
  "cells": [
    {
      "cell_type": "markdown",
      "metadata": {
        "id": "view-in-github",
        "colab_type": "text"
      },
      "source": [
        "<a href=\"https://colab.research.google.com/github/Whippoorwil/Proyecto-Ciencia-de-Datos/blob/main/Business_Understanding.ipynb\" target=\"_parent\"><img src=\"https://colab.research.google.com/assets/colab-badge.svg\" alt=\"Open In Colab\"/></a>"
      ]
    },
    {
      "cell_type": "markdown",
      "metadata": {
        "id": "Rpym1TRO48Xa"
      },
      "source": [
        "#Introduction\n",
        "\n",
        "Our idea is to use purchase data on amazon, like reviews and purchase history, in order to device predictions which would allows us to make better suggestions/publicity in order to maximize the utility of said suggestion/publicity. \n",
        "\n",
        "#Determining Business Objectives\n",
        "\n",
        "The objective is to create greater margins, as for any venture. However the way of doing this is what concerns us. We want to optimize the amount of information shown. We have two resources here: customer's attention and the money poured into banners/publicity, etc... We want to use as little as possible of this two resources in order to increase margin. The way of doing this is maximising the likelihood of showing publicity to customers of products that they will actually consider purchasing. \n",
        "\n",
        "##Tasks\n",
        "\n",
        "*   to draw a correlation between past reviews and future purchases using existing public data.\n",
        "\n",
        "*   To find a model which presents banners that feature a product with better than random chance of being purchased.\n",
        "*   increase customer satisfaction by offering a most efficient use of their time.\n",
        "*   To do so by not increasing operation costs, or at least not so much as to offset any gains made by this project.\n",
        "\n",
        "##Business Success Criteria\n",
        "\n",
        "\n",
        "*   For our model to work using a control group outside our initial \n",
        "data set. A standard deviation above what would be expected by mere randomness is a good goal.\n",
        "*   To be reliably used without offsetting the accuracy the previous model had procured. It must be at least as accurate. \n",
        "*   The project finishes on time.\n",
        "\n",
        "#Assesing The Situation\n",
        "\n",
        "There are data compilations from Amazon reviews from the past couple of years. Legislation changes fast, however, and there is not complete certainty that any attempt at scraping/mining won't result in legal complications. Further investigation is required.\n",
        "\n",
        "There is no inside person within the company working with me, however the wealth of data on this site and how far it has spread should suffice for our operation to be a successful one, at least in principle. Truth is we can only trust data from a few years ago to a certain extent -- determining what it is is out of the scope of this project, hence why it would be ideal for our data to be as resent as possible.\n",
        "\n",
        "##Resourses Required\n",
        "\n",
        "For now our applications aren't that computationally demanding, a personal home computer should suffice. We also count with this data set (http://jmcauley.ucsd.edu/data/amazon/) which is nicely formatted in JSON format for our use. \n",
        "\n",
        "##Risk and Contingencies\n",
        "\n",
        "We have two mean concerns:\n",
        "*   For our data to be poor quality.\n",
        "*   For the project to take more than expected.\n",
        "*   For our model to be less than successful.\n",
        "\n",
        "In the first case, we'll have to scrape. In that case the second concern becomes ever more present and a new concern appears:\n",
        "\n",
        "*   Legality regarding the scrapping of Amazon data.\n",
        "\n",
        "#Determining Data Mining Goals\n",
        "\n",
        "To relate reviews made by users with the time in which they were made. After that we want to determine the likelihood of a certain item to be purchased given this historical data. Using the data we are given our task becomes organizing it so as to use it as a predictive tool.\n",
        "\n",
        "#Project Plan\n",
        "\n",
        "\n",
        "\n",
        "*   To understand the business and our objectives (done)\n",
        "\n",
        "*   To gather the data using local storage\n",
        "*   To understand the structure of this data\n",
        "*   To model the data\n",
        "*   To evaluate the model\n",
        "*   To release the model\n",
        "\n"
      ]
    }
  ]
}