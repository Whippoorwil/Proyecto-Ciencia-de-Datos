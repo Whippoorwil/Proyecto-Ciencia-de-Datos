{
  "nbformat": 4,
  "nbformat_minor": 0,
  "metadata": {
    "colab": {
      "name": "data_science_ejercicio.ipynb",
      "provenance": [],
      "authorship_tag": "ABX9TyOW7ME0Hddtj5k/oqsA2V4G",
      "include_colab_link": true
    },
    "kernelspec": {
      "name": "python3",
      "display_name": "Python 3"
    },
    "language_info": {
      "name": "python"
    }
  },
  "cells": [
    {
      "cell_type": "markdown",
      "metadata": {
        "id": "view-in-github",
        "colab_type": "text"
      },
      "source": [
        "<a href=\"https://colab.research.google.com/github/Whippoorwil/Proyecto-Ciencia-de-Datos/blob/main/data_science_ejercicio.ipynb\" target=\"_parent\"><img src=\"https://colab.research.google.com/assets/colab-badge.svg\" alt=\"Open In Colab\"/></a>"
      ]
    },
    {
      "cell_type": "code",
      "metadata": {
        "colab": {
          "base_uri": "https://localhost:8080/"
        },
        "id": "MqMKcXuHPv59",
        "outputId": "3dce55a5-cd77-4030-f989-597d6419c03b"
      },
      "source": [
        "from google.colab import drive\n",
        "import pandas as pd\n",
        "drive.mount('/content/gdrive')\n",
        "homicidios = pd.read_csv('/content/gdrive/MyDrive/dataset/homicidios.csv')\n",
        "sisben = pd.read_csv('/content/gdrive/MyDrive/dataset/sisben.csv')"
      ],
      "execution_count": 4,
      "outputs": [
        {
          "output_type": "stream",
          "text": [
            "Drive already mounted at /content/gdrive; to attempt to forcibly remount, call drive.mount(\"/content/gdrive\", force_remount=True).\n"
          ],
          "name": "stdout"
        }
      ]
    },
    {
      "cell_type": "code",
      "metadata": {
        "colab": {
          "base_uri": "https://localhost:8080/"
        },
        "id": "xYT96DLPQlEN",
        "outputId": "6d884ff2-14e6-4f5f-e1bf-83fa67a0fcc5"
      },
      "source": [
        "print(homicidios['GRUPO ETARÍO'])"
      ],
      "execution_count": 14,
      "outputs": [
        {
          "output_type": "stream",
          "text": [
            "0         ADULTOS\n",
            "1         ADULTOS\n",
            "2         ADULTOS\n",
            "3         ADULTOS\n",
            "4         ADULTOS\n",
            "           ...   \n",
            "177636    ADULTOS\n",
            "177637        NaN\n",
            "177638    ADULTOS\n",
            "177639    ADULTOS\n",
            "177640    ADULTOS\n",
            "Name: GRUPO ETARÍO, Length: 177641, dtype: object\n"
          ],
          "name": "stdout"
        }
      ]
    }
  ]
}